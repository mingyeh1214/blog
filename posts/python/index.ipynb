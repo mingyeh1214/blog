{
  "cells": [
    {
      "cell_type": "raw",
      "metadata": {},
      "source": [
        "---\n",
        "title: \"Hello, Python\"\n",
        "subtitle: \"Python 教學\"\n",
        "date: \"6/13/2023\"\n",
        "date-modified: \"6/13/2023\"\n",
        "date-format: \"YYYY-MM-DD\"\n",
        "author: \"Bennie Liu\"\n",
        "abstract: \"Python基礎\"\n",
        "highlight-style: pygments\n",
        "\n",
        "format:\n",
        "  html:\n",
        "    code-fold: false\n",
        "    code-tools: true\n",
        "    code-link: true\n",
        "    code-line-numbers: true\n",
        "    toc: true\n",
        "    df-print: paged\n",
        "    html-math-method: katex\n",
        "  # pdf:\n",
        "  #   code-line-numbers: true\n",
        "  #   geometry: \n",
        "  #     - top=30mm\n",
        "  #     - left=30mm\n",
        "  # docx: default\n",
        "execute:\n",
        "  echo: true\n",
        "  warning: false\n",
        "editor: visual\n",
        "---"
      ],
      "id": "09661450"
    },
    {
      "cell_type": "markdown",
      "metadata": {},
      "source": [
        "Python資料型態\n"
      ],
      "id": "435a899a"
    },
    {
      "cell_type": "code",
      "metadata": {},
      "source": [
        "1+1"
      ],
      "id": "670bf4db",
      "execution_count": null,
      "outputs": []
    }
  ],
  "metadata": {
    "kernelspec": {
      "display_name": "Python 3",
      "language": "python",
      "name": "python3"
    }
  },
  "nbformat": 4,
  "nbformat_minor": 5
}